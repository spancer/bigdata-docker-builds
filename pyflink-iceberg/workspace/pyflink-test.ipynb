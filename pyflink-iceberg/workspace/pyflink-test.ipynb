{
 "cells": [
  {
   "cell_type": "code",
   "execution_count": 2,
   "id": "4557e8ce",
   "metadata": {},
   "outputs": [],
   "source": [
    "from pyflink.table import EnvironmentSettings, TableEnvironment\n",
    "\n",
    "# 初始化TableEnvironment\n",
    "env_settings = EnvironmentSettings.new_instance().in_batch_mode().build()\n",
    "t_env = TableEnvironment.create(env_settings)\n",
    "\n",
    "# 配置Iceberg和MinIO\n",
    "t_env.execute_sql(f\"\"\"\n",
    "CREATE CATALOG iceberg\n",
    "WITH (\n",
    "    'type'='iceberg',\n",
    "    'catalog-type'='rest',\n",
    "    'uri'='http://rest:8181',\n",
    "    'io-impl'='org.apache.iceberg.aws.s3.S3FileIO',\n",
    "    'warehouse'='s3a://lakehouse/iceberg',\n",
    "    's3-endpoint'='http://minio:9000'\n",
    ")\n",
    "\"\"\")\n",
    "\n",
    "# 使用Iceberg目录\n",
    "t_env.use_catalog(\"iceberg\")\n"
   ]
  },
  {
   "cell_type": "code",
   "execution_count": 4,
   "id": "f089af13",
   "metadata": {},
   "outputs": [],
   "source": [
    "catalogs = t_env.execute_sql(f\"\"\"show catalogs\"\"\")"
   ]
  },
  {
   "cell_type": "code",
   "execution_count": 6,
   "id": "4b34011a",
   "metadata": {},
   "outputs": [
    {
     "ename": "AttributeError",
     "evalue": "'TableResult' object has no attribute 'key'",
     "output_type": "error",
     "traceback": [
      "\u001b[0;31m---------------------------------------------------------------------------\u001b[0m",
      "\u001b[0;31mAttributeError\u001b[0m                            Traceback (most recent call last)",
      "Cell \u001b[0;32mIn[6], line 1\u001b[0m\n\u001b[0;32m----> 1\u001b[0m \u001b[38;5;28mprint\u001b[39m(\u001b[43mcatalogs\u001b[49m\u001b[38;5;241;43m.\u001b[39;49m\u001b[43mkey\u001b[49m)\n",
      "\u001b[0;31mAttributeError\u001b[0m: 'TableResult' object has no attribute 'key'"
     ]
    }
   ],
   "source": [
    "print(catalogs.key)"
   ]
  },
  {
   "cell_type": "code",
   "execution_count": null,
   "id": "8b1627b1",
   "metadata": {},
   "outputs": [],
   "source": []
  }
 ],
 "metadata": {
  "kernelspec": {
   "display_name": "Python 3 (ipykernel)",
   "language": "python",
   "name": "python3"
  },
  "language_info": {
   "codemirror_mode": {
    "name": "ipython",
    "version": 3
   },
   "file_extension": ".py",
   "mimetype": "text/x-python",
   "name": "python",
   "nbconvert_exporter": "python",
   "pygments_lexer": "ipython3",
   "version": "3.9.16"
  }
 },
 "nbformat": 4,
 "nbformat_minor": 5
}
