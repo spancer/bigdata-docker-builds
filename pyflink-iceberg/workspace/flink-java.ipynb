{
 "cells": [
  {
   "cell_type": "code",
   "execution_count": 1,
   "id": "87ddd08e",
   "metadata": {},
   "outputs": [
    {
     "ename": "CompilationException",
     "evalue": "",
     "output_type": "error",
     "traceback": [
      "\u001b[1m\u001b[30m|   \u001b[1m\u001b[30m    \u001b[0m\u001b[1m\u001b[30m\u001b[41morg.apache.hadoop.conf.Configuration\u001b[0m\u001b[1m\u001b[30m config = new org.apache.hadoop.conf.Configuration();\u001b[0m",
      "\u001b[1m\u001b[31mpackage org.apache.hadoop.conf does not exist\u001b[0m",
      "",
      "\u001b[1m\u001b[30m|   \u001b[1m\u001b[30m    org.apache.hadoop.conf.Configuration config = new \u001b[0m\u001b[1m\u001b[30m\u001b[41morg.apache.hadoop.conf.Configuration\u001b[0m\u001b[1m\u001b[30m();\u001b[0m",
      "\u001b[1m\u001b[31mpackage org.apache.hadoop.conf does not exist\u001b[0m",
      ""
     ]
    }
   ],
   "source": [
    "String appKey = \"jdbcpg\";\n",
    "    \n",
    "    String jdbcConURL = \"jdbc:postgresql://postgres:5432/postgres\";\n",
    "\n",
    "    String jdbcDriver = \"org.postgresql.Driver\";\n",
    "\n",
    "\n",
    "    String jdbcUser = \"postgres\";\n",
    "\n",
    "    String jdbcPassword = \"postgres\";\n",
    "\n",
    "    String s3URL = \"http://minio:9000\";\n",
    "\n",
    "    String s3User = \"minio\";\n",
    "\n",
    "    String s3Password = \"minio123\";\n",
    "    \n",
    "    String warehouse = \"s3a://lakehouse/iceberg\";\n",
    "    \n",
    "    //hadoop config\n",
    "    org.apache.hadoop.conf.Configuration config = new org.apache.hadoop.conf.Configuration();\n",
    "    config.set(\"javax.jdo.option.ConnectionDriverName\", jdbcDriver);\n",
    "    config.set(\"javax.jdo.option.ConnectionURL\", jdbcConURL);\n",
    "    config.set(\"javax.jdo.option.ConnectionUserName\", jdbcUser);\n",
    "    config.set(\"javax.jdo.option.ConnectionPassword\", jdbcPassword);\n",
    "    config.set(\"fs.s3a.access.key\", s3User);\n",
    "    config.set(\"fs.s3a.secret.key\", s3Password);\n",
    "    config.set(\"fs.s3a.endpoint\", s3URL);\n",
    "    config.set(\"fs.s3a.path.style.access\", \"true\");\n",
    "    /**\n",
    "     * below is not need while using jdbc catalog.\n",
    "     */\n",
    "    //config.set(\"hive.metastore.warehouse.dir\", warehouse);\n",
    "    //config.set(\"s3a.impl\",\"org.apache.hadoop.fs.s3a.S3AFileSystem\");\n",
    "    \n",
    "    //jdbc config\n",
    "    Map<String, String> properties = new HashMap<>();\n",
    "    properties.put(CatalogProperties.URI, jdbcConURL);\n",
    "    properties.put(CatalogProperties.CATALOG_IMPL, JdbcCatalog.class.getName());\n",
    "    properties.put(JdbcCatalog.PROPERTY_PREFIX + \"user\", jdbcUser);\n",
    "    properties.put(JdbcCatalog.PROPERTY_PREFIX + \"password\", jdbcPassword);\n",
    "    properties.put(CatalogProperties.WAREHOUSE_LOCATION, warehouse);\n",
    "    \n",
    "    //init jdbc catalog\n",
    "    JdbcCatalog catalog = new JdbcCatalog();\n",
    "    catalog.setConf(config);\n",
    "    catalog.initialize(\"jdbc\", properties);\n",
    "\n",
    "    \n",
    "    StreamExecutionEnvironment env = StreamExecutionEnvironment.getExecutionEnvironment();\n",
    "    env.enableCheckpointing(10000);\n",
    "\n",
    "    /**\n",
    "     * create database\n",
    "     */\n",
    "    String dbName = \"db_\"+ appKey;\n",
    "    Namespace  db = Namespace.of(dbName);   \n",
    "    if(!catalog.namespaceExists(db))\n",
    "      catalog.createNamespace(db);\n",
    "    \n",
    "    \n",
    "    List<String> currentCols = new ArrayList<String>();\n",
    "    currentCols.add(ColumnConstant.XWHO);\n",
    "    currentCols.add(ColumnConstant.XWHAT);\n",
    "    currentCols.add(ColumnConstant.XWHEN);\n",
    "    currentCols.add(ColumnConstant.DISTINCT_ID);\n",
    "    currentCols.add(ColumnConstant.XCONTENT);\n",
    "    NestedField field = null;\n",
    "    List<NestedField> columns = Lists.newArrayList();\n",
    "    for (int i = 0; i < currentCols.size(); i++) {\n",
    "      if(currentCols.get(i).equals(ColumnConstant.XWHEN))\n",
    "        field =  NestedField.optional(i + 1, currentCols.get(i), Types.LongType.get());\n",
    "      else\n",
    "        field = NestedField.optional(i + 1, currentCols.get(i), Types.StringType.get());\n",
    "      columns.add(field);\n",
    "    }\n",
    "    Schema schema = new Schema(columns);\n",
    "\n",
    "    \n",
    "    // define iceberg partition specification.\n",
    "    PartitionSpec spec = PartitionSpec.builderFor(schema).identity(ColumnConstant.XWHO).build();\n",
    "    // table path\n",
    "\n",
    "    String tableName = \"event\";\n",
    "\n",
    "    // property settings, format as orc or parquet\n",
    "    Map<String, String> props =\n",
    "        ImmutableMap.of(TableProperties.DEFAULT_FILE_FORMAT, FileFormat.ORC.name());\n",
    "\n",
    "    // create an iceberg table.\n",
    "    TableIdentifier tableIdentifier = TableIdentifier.of(dbName, tableName);\n",
    "    Table table = null; \n",
    "    if(catalog.tableExists(tableIdentifier))\n",
    "      table = catalog.loadTable(tableIdentifier);\n",
    "    else\n",
    "      catalog.createTable(tableIdentifier, schema, spec, props);"
   ]
  },
  {
   "cell_type": "code",
   "execution_count": 3,
   "id": "d1e8f31c",
   "metadata": {},
   "outputs": [
    {
     "ename": "CompilationException",
     "evalue": "",
     "output_type": "error",
     "traceback": [
      "\u001b[1m\u001b[30m|   \u001b[1m\u001b[30mimport \u001b[0m\u001b[1m\u001b[30m\u001b[41morg.apache.iceberg.CatalogProperties\u001b[0m\u001b[1m\u001b[30m;\u001b[0m",
      "\u001b[1m\u001b[31mpackage org.apache.iceberg does not exist\u001b[0m",
      ""
     ]
    }
   ],
   "source": [
    "import org.apache.iceberg.CatalogProperties;\n",
    "import org.apache.iceberg.FileFormat;\n",
    "import org.apache.iceberg.PartitionSpec;\n",
    "import org.apache.iceberg.Schema;\n",
    "import org.apache.iceberg.Table;\n",
    "import org.apache.iceberg.TableProperties;\n",
    "import org.apache.iceberg.catalog.Namespace;\n",
    "import org.apache.iceberg.catalog.TableIdentifier;\n",
    "import org.apache.iceberg.flink.CatalogLoader;\n",
    "import org.apache.iceberg.flink.TableLoader;\n",
    "import org.apache.iceberg.flink.data.RowDataUtil;\n",
    "import org.apache.iceberg.flink.sink.FlinkSink;\n",
    "import org.apache.iceberg.jdbc.JdbcCatalog;\n",
    "import org.apache.iceberg.relocated.com.google.common.collect.ImmutableMap;\n",
    "import org.apache.iceberg.types.Types;\n",
    "import org.apache.iceberg.types.Types.NestedField;\n",
    "import com.alibaba.fastjson.JSONObject;\n",
    "import com.google.common.collect.Lists;"
   ]
  },
  {
   "cell_type": "code",
   "execution_count": 4,
   "id": "274ac189",
   "metadata": {},
   "outputs": [],
   "source": [
    "Map<String, String> a = new HashMap<String,String>();\n"
   ]
  },
  {
   "cell_type": "code",
   "execution_count": 5,
   "id": "2201871b",
   "metadata": {},
   "outputs": [],
   "source": [
    "a.put(\"1\",\"2\")"
   ]
  },
  {
   "cell_type": "code",
   "execution_count": 6,
   "id": "228931ab",
   "metadata": {},
   "outputs": [
    {
     "name": "stdout",
     "output_type": "stream",
     "text": [
      "{1=2}"
     ]
    }
   ],
   "source": [
    "System.out.print(a)"
   ]
  },
  {
   "cell_type": "code",
   "execution_count": 7,
   "id": "29acc3df",
   "metadata": {},
   "outputs": [
    {
     "ename": "CompilationException",
     "evalue": "",
     "output_type": "error",
     "traceback": [
      "\u001b[1m\u001b[30m|   \u001b[1m\u001b[30m \u001b[0m\u001b[1m\u001b[30m\u001b[41mStreamExecutionEnvironment\u001b[0m\u001b[1m\u001b[30m env = StreamExecutionEnvironment.getExecutionEnvironment();\u001b[0m",
      "\u001b[1m\u001b[31mcannot find symbol\u001b[0m",
      "\u001b[1m\u001b[31m  symbol:   class StreamExecutionEnvironment\u001b[0m",
      "",
      "\u001b[1m\u001b[30m|   \u001b[1m\u001b[30m StreamExecutionEnvironment env = \u001b[0m\u001b[1m\u001b[30m\u001b[41mStreamExecutionEnvironment\u001b[0m\u001b[1m\u001b[30m.getExecutionEnvironment();\u001b[0m",
      "\u001b[1m\u001b[31mcannot find symbol\u001b[0m",
      "\u001b[1m\u001b[31m  symbol:   variable StreamExecutionEnvironment\u001b[0m",
      ""
     ]
    }
   ],
   "source": [
    " StreamExecutionEnvironment env = StreamExecutionEnvironment.getExecutionEnvironment();\n",
    "    env.enableCheckpointing(10000);\n"
   ]
  },
  {
   "cell_type": "code",
   "execution_count": null,
   "id": "f770e565",
   "metadata": {},
   "outputs": [],
   "source": []
  }
 ],
 "metadata": {
  "kernelspec": {
   "display_name": "Java",
   "language": "java",
   "name": "java"
  },
  "language_info": {
   "codemirror_mode": "java",
   "file_extension": ".jshell",
   "mimetype": "text/x-java-source",
   "name": "Java",
   "pygments_lexer": "java",
   "version": "11.0.18+10-post-Debian-1deb11u1"
  }
 },
 "nbformat": 4,
 "nbformat_minor": 5
}
