{
 "cells": [
  {
   "cell_type": "code",
   "execution_count": 1,
   "id": "e2d9f8b0",
   "metadata": {},
   "outputs": [
    {
     "ename": "CompilationException",
     "evalue": "",
     "output_type": "error",
     "traceback": [
      "\u001b[1m\u001b[30m|   \u001b[1m\u001b[30m    \u001b[0m\u001b[1m\u001b[30m\u001b[41mStreamExecutionEnvironment\u001b[0m\u001b[1m\u001b[30m env = StreamExecutionEnvironment.getExecutionEnvironment();\u001b[0m",
      "\u001b[1m\u001b[31mcannot find symbol\u001b[0m",
      "\u001b[1m\u001b[31m  symbol:   class StreamExecutionEnvironment\u001b[0m",
      "",
      "\u001b[1m\u001b[30m|   \u001b[1m\u001b[30m    StreamExecutionEnvironment env = \u001b[0m\u001b[1m\u001b[30m\u001b[41mStreamExecutionEnvironment\u001b[0m\u001b[1m\u001b[30m.getExecutionEnvironment();\u001b[0m",
      "\u001b[1m\u001b[31mcannot find symbol\u001b[0m",
      "\u001b[1m\u001b[31m  symbol:   variable StreamExecutionEnvironment\u001b[0m",
      ""
     ]
    }
   ],
   "source": [
    "    StreamExecutionEnvironment env = StreamExecutionEnvironment.getExecutionEnvironment();\n",
    "    env.enableCheckpointing(10000);\n"
   ]
  },
  {
   "cell_type": "code",
   "execution_count": null,
   "id": "03a62a67",
   "metadata": {},
   "outputs": [],
   "source": []
  }
 ],
 "metadata": {
  "kernelspec": {
   "display_name": "Java",
   "language": "java",
   "name": "java"
  },
  "language_info": {
   "codemirror_mode": "java",
   "file_extension": ".jshell",
   "mimetype": "text/x-java-source",
   "name": "Java",
   "pygments_lexer": "java",
   "version": "11.0.18+10-post-Debian-1deb11u1"
  }
 },
 "nbformat": 4,
 "nbformat_minor": 5
}
