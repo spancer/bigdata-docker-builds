{
 "cells": [
  {
   "cell_type": "code",
   "execution_count": 1,
   "id": "d9f5488d",
   "metadata": {},
   "outputs": [
    {
     "name": "stdout",
     "output_type": "stream",
     "text": [
      "2\n"
     ]
    }
   ],
   "source": [
    "a=1\n",
    "b=2\n",
    "print(a*b)"
   ]
  },
  {
   "cell_type": "code",
   "execution_count": 1,
   "id": "014eab44",
   "metadata": {},
   "outputs": [
    {
     "ename": "AttributeError",
     "evalue": "'Builder' object has no attribute 'use_blink_planner'",
     "output_type": "error",
     "traceback": [
      "\u001b[0;31m---------------------------------------------------------------------------\u001b[0m",
      "\u001b[0;31mAttributeError\u001b[0m                            Traceback (most recent call last)",
      "Cell \u001b[0;32mIn[1], line 4\u001b[0m\n\u001b[1;32m      1\u001b[0m \u001b[38;5;28;01mfrom\u001b[39;00m \u001b[38;5;21;01mpyflink\u001b[39;00m\u001b[38;5;21;01m.\u001b[39;00m\u001b[38;5;21;01mtable\u001b[39;00m \u001b[38;5;28;01mimport\u001b[39;00m EnvironmentSettings, TableEnvironment\n\u001b[1;32m      3\u001b[0m \u001b[38;5;66;03m# 初始化TableEnvironment\u001b[39;00m\n\u001b[0;32m----> 4\u001b[0m env_settings \u001b[38;5;241m=\u001b[39m \u001b[43mEnvironmentSettings\u001b[49m\u001b[38;5;241;43m.\u001b[39;49m\u001b[43mnew_instance\u001b[49m\u001b[43m(\u001b[49m\u001b[43m)\u001b[49m\u001b[38;5;241;43m.\u001b[39;49m\u001b[43min_batch_mode\u001b[49m\u001b[43m(\u001b[49m\u001b[43m)\u001b[49m\u001b[38;5;241;43m.\u001b[39;49m\u001b[43muse_blink_planner\u001b[49m()\u001b[38;5;241m.\u001b[39mbuild()\n\u001b[1;32m      5\u001b[0m t_env \u001b[38;5;241m=\u001b[39m TableEnvironment\u001b[38;5;241m.\u001b[39mcreate(env_settings)\n\u001b[1;32m      7\u001b[0m \u001b[38;5;66;03m# 配置Iceberg和MinIO\u001b[39;00m\n",
      "\u001b[0;31mAttributeError\u001b[0m: 'Builder' object has no attribute 'use_blink_planner'"
     ]
    }
   ],
   "source": [
    "from pyflink.table import EnvironmentSettings, TableEnvironment\n",
    "\n",
    "# 初始化TableEnvironment\n",
    "env_settings = EnvironmentSettings.new_instance().in_batch_mode().use_blink_planner().build()\n",
    "t_env = TableEnvironment.create(env_settings)\n",
    "\n",
    "# 配置Iceberg和MinIO\n",
    "t_env.execute_sql(f\"\"\"\n",
    "CREATE CATALOG iceberg\n",
    "WITH (\n",
    "    'type'='iceberg',\n",
    "    'catalog-type'='jdbc',\n",
    "    'warehouse'='s3a://lakehouse/iceberg',\n",
    "    'property-version'='1',\n",
    "    'io.file.path'='/workspace/minio.properties',\n",
    "    'metadata.metastore.impl'='org.apache.iceberg.jdbc.JdbcCatalog',\n",
    "    'metadata.jdbc.url'='jdbc:postgresql://postgres:5432/postgres',\n",
    "    'metadata.jdbc.user'='postgres',\n",
    "    'metadata.jdbc.password'='postgres',\n",
    "    'base-url'='http://minio:9000',\n",
    "    'access-key'='minio',\n",
    "    'secret-key'='minio123'\n",
    ")\n",
    "\"\"\")\n",
    "\n",
    "# 使用Iceberg目录\n",
    "t_env.use_catalog(\"iceberg\")\n",
    "t_env.use_database(\"my_database\")"
   ]
  },
  {
   "cell_type": "code",
   "execution_count": null,
   "id": "3bbd28db",
   "metadata": {},
   "outputs": [],
   "source": []
  }
 ],
 "metadata": {
  "kernelspec": {
   "display_name": "Python 3 (ipykernel)",
   "language": "python",
   "name": "python3"
  },
  "language_info": {
   "codemirror_mode": {
    "name": "ipython",
    "version": 3
   },
   "file_extension": ".py",
   "mimetype": "text/x-python",
   "name": "python",
   "nbconvert_exporter": "python",
   "pygments_lexer": "ipython3",
   "version": "3.9.16"
  }
 },
 "nbformat": 4,
 "nbformat_minor": 5
}
